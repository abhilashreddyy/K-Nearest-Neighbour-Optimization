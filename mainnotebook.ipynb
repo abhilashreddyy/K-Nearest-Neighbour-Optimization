{
 "cells": [
  {
   "cell_type": "markdown",
   "metadata": {},
   "source": [
    "# Scalable Nearest Neighbour Algorithms for High Dimensional Data\n",
    "\n",
    "__*Please read the documentation.pdf i have provided in folder before reading this notebook for getting a better understanding of what i did* __\n",
    "\n",
    "- I have imported three modeles named __kmeans_Knn,common_function,common_function__ from the same file to avoid clumsiness of code. you can check them. They are present in same folder .\n",
    "- I wrote those files in such a way that you can understand their functionality by reading name of the function. If you have read documentation.pdf  "
   ]
  },
  {
   "cell_type": "code",
   "execution_count": null,
   "metadata": {
    "collapsed": true
   },
   "outputs": [],
   "source": [
    "import kmeans_Knn as kk\n",
    "\n",
    "import randomized_multiple_kdtreed as rmk\n",
    "import common_function as cf\n",
    "import pandas as pd\n",
    "import numpy as np\n",
    "import time\n",
    "from sklearn.model_selection import train_test_split\n",
    "import pickle\n",
    "import matplotlib.pyplot as plt\n",
    "import threading\n",
    "import heapq\n",
    "%matplotlib inline\n",
    "\n",
    "\n",
    "\n",
    "result = []\n",
    "    \n",
    "def kmeans_tree_multithreading(data,y,test_data,test_y,k = 3,no_of_comparisions = 10,clustring_iteration = 7,threads = 3) :\n",
    "    global result\n",
    "    result = []\n",
    "    no_of_rows = int(len(data)/threads)\n",
    "    t = []\n",
    "    \n",
    "    \n",
    "    for i in range(threads) :\n",
    "        lock = threading.Lock()\n",
    "        t.append(threading.Thread(target=kmeans_tree, args=(data[no_of_rows*i:no_of_rows*(i+1)],y[no_of_rows*i:no_of_rows*(i+1)],test_data,test_y,k,no_of_comparisions,clustring_iteration,True,lock)))\n",
    "    \n",
    "    for t_temp in t :\n",
    "        t_temp.start()\n",
    "    \n",
    "    for t_temp in t :\n",
    "        t_temp.join()\n",
    "    print(len(result[0]))\n",
    "    heapq.heapify(result)\n",
    "    acc = 0\n",
    "    for i in range(len(test_y)) :\n",
    "        if test_y[i] == min([result[j][i] for j in range(threads)],key = lambda x : x[0])[1][1][1] :\n",
    "            acc += 1\n",
    "    #print(\"accuracy : \",(acc/len(test_y))*100)\n",
    "    \n",
    "    #print(\"Done!\")\n",
    "    return (acc/len(test_y))*100\n",
    "\n",
    "def multi_kdtree(data,y,test_data,test_y,no_of_trees = 5,no_of_dimensions = 600,variance = False,comparisions = 4) :\n",
    "    a = time.time()\n",
    "    multi_trees = rmk.randomized_trees(np.array(data),label = y,no_of_trees = no_of_trees,no_of_dimensions = no_of_dimensions,variance = variance,comparisions = comparisions )\n",
    "    multi_trees.make_data_sets()\n",
    "    multi_trees.make_tree()\n",
    "    accuracy = []\n",
    "    b = time.time()\n",
    "    tree_building_time = b-a\n",
    "    a = time.time()\n",
    "    \n",
    "    #print(test_y)\n",
    "    for temp_x,temp_y in zip(test_data,test_y) :\n",
    "        #print(temp_x)\n",
    "        lst = [val[1] for val in multi_trees.get_nearest(temp_x)]\n",
    "        #print(lst)\n",
    "        if temp_y == max(set(lst), key=lst.count) :\n",
    "            accuracy.append(1)\n",
    "        else :\n",
    "            accuracy.append(0)\n",
    "       \n",
    "            \n",
    "    b = time.time()\n",
    "    prediction_time = b-a\n",
    "    \n",
    "    return (sum(accuracy)/len(test_data))*100,tree_building_time,prediction_time  \n",
    "\n",
    "def kmeans_tree(data,y,test_data,test_y,k = 3,no_of_comparisions = 100,clustring_iteration = 7,multithreading = False,lock = None):\n",
    "    global result\n",
    "    \n",
    "    a =time.time() \n",
    "    loc_kk = kk.nary_tree(data,y,k,no_of_comparisions,clustring_iteration)\n",
    "    loc_kk.make_tree()\n",
    "    accuracy = []\n",
    "    b = time.time()\n",
    "    tree_building_time = b-a\n",
    "    a = time.time()\n",
    "    if multithreading == False :\n",
    "        for temp_x,temp_y in zip(test_data,test_y) :\n",
    "            \n",
    "            if temp_y == loc_kk.get_nearest(temp_x)[0][1][1]:\n",
    "                accuracy.append(1)\n",
    "            else :\n",
    "                accuracy.append(0)\n",
    "    if multithreading == True :\n",
    "        lock.acquire()\n",
    "        temp_result = []\n",
    "        for temp_x,temp_y in zip(test_data,test_y) :\n",
    "            temp = loc_kk.get_nearest(temp_x)\n",
    "            temp_result.append(temp)\n",
    "            if temp_y == temp[0][1][1]:\n",
    "                accuracy.append(1)\n",
    "            else :\n",
    "                accuracy.append(0)\n",
    "        result.append(temp_result) \n",
    "        lock.release()\n",
    "    b = time.time()\n",
    "    prediction_time = b-a\n",
    "    \n",
    "    return (sum(accuracy)/len(test_data))*100,tree_building_time,prediction_time  \n",
    "\n",
    "def single_kdtree(data,y,test_data,test_y,cols,compare) :\n",
    "    a = time.time() \n",
    "    loc_rmk = rmk.knn_kdtree(data,y,cols,compare)\n",
    "    loc_rmk.make_tree()\n",
    "    accuracy = []\n",
    "    b = time.time() \n",
    "    tree_building_time = b-a\n",
    "    a = time.time() \n",
    "    for temp_x,temp_y in zip(test_data,test_y) :\n",
    "        if temp_y == loc_rmk.get_nearest(temp_x)[0][1]:\n",
    "            accuracy.append(1)\n",
    "        else :\n",
    "            accuracy.append(0)\n",
    " \n",
    "    b = time.time() \n",
    "    prediction_time = b-a\n",
    "    return (sum(accuracy)/len(test_data))*100,tree_building_time,prediction_time  \n",
    "\n",
    "if __name__ == \"__main__\" :\n",
    "    data = pd.read_csv(\"train.csv\")\n",
    "    y = data.loc[:1000,\"label\"].values.tolist()\n",
    "    points = data.loc[:1000,\"pixel0\":].values.tolist()\n",
    "    search_point = data.loc[1100:1150,\"pixel0\":].values.tolist()\n",
    "    search_y = data.loc[1100:1150,\"label\"].values.tolist()\n",
    "    collect_data = []\n",
    "    "
   ]
  },
  {
   "cell_type": "markdown",
   "metadata": {},
   "source": [
    "In the below cell output observe the kmeans_tree_accuracy \n",
    "- it is less because i have used the minimal parameter for prediction "
   ]
  },
  {
   "cell_type": "code",
   "execution_count": 16,
   "metadata": {},
   "outputs": [
    {
     "name": "stdout",
     "output_type": "stream",
     "text": [
      "multi_kdtree accuracy :  88.23529411764706 tree building time :  0.5567996501922607 prediction time :  11.713395118713379\n",
      "single_kdtree accuracy :  70.58823529411765 tree building time :  0.07813668251037598 prediction time :  2.1542835235595703\n",
      "kmeans_tree accuracy :  66.66666666666666 tree building time :  0.4766721725463867 prediction time :  0.4538125991821289\n"
     ]
    }
   ],
   "source": [
    "multi_kdtree_accuracy,treebuilding_time,prediction_time=multi_kdtree(points,y,search_point,search_y,no_of_trees = 4,no_of_dimensions = 784,variance = False,comparisions = 4)\n",
    "print(\"multi_kdtree accuracy : \",multi_kdtree_accuracy,\"tree building time : \",treebuilding_time,\"prediction time : \",prediction_time)\n",
    "single_kdtree_accuracy,treebuilding_time,prediction_time = single_kdtree(points,y,search_point,search_y,784,10)\n",
    "print(\"single_kdtree accuracy : \",single_kdtree_accuracy,\"tree building time : \",treebuilding_time,\"prediction time : \",prediction_time)\n",
    "kmeans_tree_accuracy,treebuilding_time,prediction_time = kmeans_tree(points,y,search_point,search_y,k = 3,no_of_comparisions = 1,clustring_iteration = 1)\n",
    "print(\"kmeans_tree accuracy : \",kmeans_tree_accuracy,\"tree building time : \",treebuilding_time,\"prediction time : \",prediction_time)"
   ]
  },
  {
   "cell_type": "markdown",
   "metadata": {},
   "source": [
    "In this cell if we observe the accuracy there is a drastic change from above cell .This is beacuse of increased comparisions while traversing and iterations while K-means clustering.\n",
    "\n",
    "_i just wanted to demonstrate how parameter tuning works on k-mean tree method _"
   ]
  },
  {
   "cell_type": "code",
   "execution_count": 18,
   "metadata": {},
   "outputs": [
    {
     "name": "stdout",
     "output_type": "stream",
     "text": [
      "multi_kdtree accuracy :  86.27450980392157 tree building time :  0.6096396446228027 prediction time :  13.834370136260986\n",
      "single_kdtree accuracy :  86.27450980392157 tree building time :  0.08522963523864746 prediction time :  2.4488768577575684\n",
      "kmeans_tree accuracy :  82.35294117647058 tree building time :  0.6915194988250732 prediction time :  2.555598497390747\n"
     ]
    }
   ],
   "source": [
    "multi_kdtree_accuracy,treebuilding_time,prediction_time=multi_kdtree(points,y,search_point,search_y,no_of_trees = 4,no_of_dimensions = 784,variance = False,comparisions = 10)\n",
    "print(\"multi_kdtree accuracy : \",kmeans_tree_accuracy,\"tree building time : \",treebuilding_time,\"prediction time : \",prediction_time)\n",
    "single_kdtree_accuracy,treebuilding_time,prediction_time = single_kdtree(points,y,search_point,search_y,784,10)\n",
    "print(\"single_kdtree accuracy : \",kmeans_tree_accuracy,\"tree building time : \",treebuilding_time,\"prediction time : \",prediction_time)\n",
    "kmeans_tree_accuracy,treebuilding_time,prediction_time = kmeans_tree(points,y,search_point,search_y,k = 3,no_of_comparisions = 30,clustring_iteration = 10)\n",
    "print(\"kmeans_tree accuracy : \",kmeans_tree_accuracy,\"tree building time : \",treebuilding_time,\"prediction time : \",prediction_time)"
   ]
  },
  {
   "cell_type": "code",
   "execution_count": 7,
   "metadata": {
    "scrolled": true
   },
   "outputs": [
    {
     "name": "stdout",
     "output_type": "stream",
     "text": [
      "1001 1001\n",
      "68.62745098039215 0.5529406070709229 0.4925196170806885\n",
      "1001 1001\n",
      "76.47058823529412 0.5562336444854736 0.6146035194396973\n",
      "1001 1001\n",
      "74.50980392156863 0.8202104568481445 0.5034723281860352\n",
      "1001 1001\n",
      "80.3921568627451 0.5747601985931396 0.4667942523956299\n",
      "1001 1001\n",
      "90.19607843137256 0.5374722480773926 1.0465998649597168\n",
      "1001 1001\n",
      "74.50980392156863 0.5284545421600342 0.992241621017456\n",
      "1001 1001\n",
      "80.3921568627451 0.5453503131866455 0.947476863861084\n",
      "1001 1001\n",
      "88.23529411764706 0.5549521446228027 1.0960450172424316\n",
      "1001 1001\n",
      "86.27450980392157 0.5407304763793945 1.6828124523162842\n",
      "1001 1001\n",
      "84.31372549019608 0.5242640972137451 1.614121913909912\n",
      "1001 1001\n",
      "86.27450980392157 0.6492626667022705 1.640073299407959\n",
      "1001 1001\n",
      "82.35294117647058 0.5638041496276855 1.79032301902771\n",
      "1001 1001\n",
      "88.23529411764706 0.5209789276123047 3.6200790405273438\n",
      "1001 1001\n",
      "88.23529411764706 0.523123025894165 3.2831945419311523\n",
      "1001 1001\n",
      "88.23529411764706 0.5466947555541992 3.5270042419433594\n",
      "1001 1001\n",
      "88.23529411764706 0.5319926738739014 3.4675233364105225\n",
      "1001 1001\n",
      "88.23529411764706 0.49666404724121094 6.4944281578063965\n",
      "1001 1001\n",
      "88.23529411764706 0.5495572090148926 6.545439004898071\n",
      "1001 1001\n",
      "88.23529411764706 0.5375707149505615 5.8469157218933105\n",
      "1001 1001\n",
      "88.23529411764706 0.5525820255279541 6.13575291633606\n",
      "1001 1001\n",
      "88.23529411764706 0.47118473052978516 15.840273380279541\n",
      "1001 1001\n",
      "88.23529411764706 0.694929838180542 15.15297818183899\n",
      "1001 1001\n",
      "88.23529411764706 0.5696499347686768 14.347910404205322\n",
      "1001 1001\n",
      "88.23529411764706 0.5887126922607422 14.410874605178833\n",
      "1001 1001\n",
      "88.23529411764706 0.47818422317504883 23.16996693611145\n",
      "1001 1001\n",
      "88.23529411764706 0.5467414855957031 23.028103351593018\n",
      "1001 1001\n",
      "88.23529411764706 0.5225803852081299 23.229345083236694\n",
      "1001 1001\n",
      "88.23529411764706 0.7241528034210205 27.788856983184814\n",
      "1001 1001\n",
      "88.23529411764706 0.6429874897003174 33.74241852760315\n",
      "1001 1001\n",
      "88.23529411764706 0.5269691944122314 29.63079333305359\n",
      "1001 1001\n",
      "88.23529411764706 0.5789332389831543 30.93072009086609\n",
      "1001 1001\n",
      "88.23529411764706 0.5370888710021973 30.438029289245605\n"
     ]
    }
   ],
   "source": [
    "collect_data = []\n",
    "for j in [1,10,20,50,100,300,600,1000] : \n",
    "    for i in [1,10,100,300] : \n",
    "        kmeans_tree_accuracy,treebuilding_time,prediction_time = kmeans_tree(points,y,search_point,search_y,k = 3,no_of_comparisions = j,clustring_iteration = i+1)\n",
    "        print(kmeans_tree_accuracy,treebuilding_time,prediction_time)\n",
    "        temp = {\"iter\" : i+1,\"comparisions\" : j,\"accuracy\" : kmeans_tree_accuracy,\"buid_time\" : treebuilding_time,\"pred_time\" : prediction_time}\n",
    "        collect_data.append(temp)"
   ]
  },
  {
   "cell_type": "markdown",
   "metadata": {},
   "source": [
    "- This graph shows how accuracy is varying with increasing number of iterations while clustering reason for stabelization of accuracy after some iterations is because after n iterations clustering becomes stable and what ever changes comes after that point are minute.So, after n iteratins structure of cluster does not effect the accuracy so much. As a result number of iterations stop effecting accuracy .\n",
    "![images/oroginal_iteration_accuracy.png](images/oroginal_iteration_accuracy.png)\n",
    "- I completely agree that my plottings in below cell does not exactly match with original plot in this cell. It is because i used K-Means clustering from sklearn which is too good that it is clustering the data in 2 to 3 iterations .\n",
    "Though i set the parameters of K-Means clustering to worst performance it is working well. :-)"
   ]
  },
  {
   "cell_type": "code",
   "execution_count": 17,
   "metadata": {},
   "outputs": [
    {
     "data": {
      "image/png": "[encoded data removed]",
      "text/plain": [
       "<matplotlib.figure.Figure at 0x1499e5d8748>"
      ]
     },
     "metadata": {},
     "output_type": "display_data"
    }
   ],
   "source": [
    "plt.plot([val[\"iter\"] for val in collect_data if val[\"comparisions\"] == 1] ,[val[\"accuracy\"] for val in collect_data if val[\"comparisions\"] == 1] )\n",
    "plt.xlabel(\"iterations of K-means clustering\")\n",
    "plt.ylabel(\"accuracy percentage\")\n",
    "\n",
    "plt.savefig(\"iterations accuracy.png\")"
   ]
  },
  {
   "cell_type": "markdown",
   "metadata": {
    "collapsed": true
   },
   "source": [
    "#### Let us analyse the time taken and accuracy of different flavours of KNN\n",
    "- here we can see that normal KNN algorithm is giving highest accuracy .Ofcourse it will we cant blame that primitive standard model.\n",
    "- But the problem with normal basic KNN is that it will take too much time with large datasets .\n",
    "- now let us consider using trees to solve this problem this will reduce the complexity from n square to n log(n) .\n",
    "- that is the reason why prediction time of single_kdtree and Kmeans_tree is 2seconds and on second respectively while accuracy of normal kmeans methid is 11 seconds.\n",
    "- here multi_kd_tree is taking a lot of time because i have created 4 trees .But parallel processing of these trees will reduce time complexity drastically .\n"
   ]
  },
  {
   "cell_type": "code",
   "execution_count": 8,
   "metadata": {},
   "outputs": [
    {
     "name": "stdout",
     "output_type": "stream",
     "text": [
      "normal_knn accuracy :  88.23529411764706 prediction time :  11.534543514251709\n",
      "multi_kdtree accuracy :  80.3921568627451 tree building time :  0.5715811252593994 prediction time :  12.638462781906128\n",
      "single_kdtree accuracy :  70.58823529411765 tree building time :  0.07816600799560547 prediction time :  2.1370489597320557\n",
      "1001 1001\n",
      "kmeans_tree accuracy :  86.27450980392157 tree building time :  0.5326399803161621 prediction time :  1.6359894275665283\n"
     ]
    }
   ],
   "source": [
    "time_data = {}\n",
    "accuracy_normal_method,time_taken = cf.normal_knn(points,y,search_point,search_y)\n",
    "time_data[\"noraml_algo\"] = {\"accuracy\" : accuracy_normal_method,\"time\" : time_taken}\n",
    "print(\"normal_knn accuracy : \",accuracy_normal_method,\"prediction time : \",time_taken)\n",
    "multi_kdtree_accuracy,treebuilding_time,prediction_time=multi_kdtree(points,y,search_point,search_y,no_of_trees = 4,no_of_dimensions = 784,variance = False,comparisions = 4)\n",
    "time_data[\"multi_kd_tree\"] = {\"accuracy\" : multi_kdtree_accuracy,\"time\" : prediction_time}\n",
    "print(\"multi_kdtree accuracy : \",multi_kdtree_accuracy,\"tree building time : \",treebuilding_time,\"prediction time : \",prediction_time)\n",
    "single_kdtree_accuracy,treebuilding_time,prediction_time = single_kdtree(points,y,search_point,search_y,784,4)\n",
    "time_data[\"single_kd_tree\"] = {\"accuracy\" : single_kdtree_accuracy,\"time\" : prediction_time}\n",
    "print(\"single_kdtree accuracy : \",single_kdtree_accuracy,\"tree building time : \",treebuilding_time,\"prediction time : \",prediction_time)\n",
    "kmeans_tree_accuracy,treebuilding_time,prediction_time = kmeans_tree(points,y,search_point,search_y,k = 3,no_of_comparisions = 20,clustring_iteration = 10)\n",
    "time_data[\"kmeans_tree\"] = {\"accuracy\" : kmeans_tree_accuracy,\"time\" : prediction_time}\n",
    "print(\"kmeans_tree accuracy : \",kmeans_tree_accuracy,\"tree building time : \",treebuilding_time,\"prediction time : \",prediction_time)"
   ]
  },
  {
   "cell_type": "markdown",
   "metadata": {},
   "source": [
    "### Understanding Beautiful Plot below :\n",
    "\n",
    "- Let us focus on kmeans_tree and normal_algo for better understanding of how trees effect accuracy and time complexity .\n",
    "- here in below plot Kmeans tree is giving an accuracy of around 86 while normal algorithm is giving 88 accuracy.\n",
    "- But time complexity of both can be compared in terms of log. I mean that k_means is taking 1.5(nearly log(11)) seconds to compute nearest neighbour and normal algorithm is taking 11 seconds to compute that is a huge time gap for small accuracy difference .\n",
    "- Also when using really large datasets there will be enough data for Kmeans-trees to match up with accuracy of normal algorithm.\n",
    "- multiple k-d trees are not giving better results .But according another research paper they perform almost equivalent to k-means tree. I think i should do further research to implement this algorithm better.\n",
    "- I have tried some things to imporve performance of multiple KD trees but they did not work out .I will explain them shortly in this notebook .\n",
    "- single kd tree is taking more time than K-means tree because it has binary split .So, its tree is taller than K-means tree. That is reason it is taking a more time than single_kd_tree."
   ]
  },
  {
   "cell_type": "code",
   "execution_count": 28,
   "metadata": {},
   "outputs": [
    {
     "data": {
      "image/png": "[encoded data removed]",
      "text/plain": [
       "<matplotlib.figure.Figure at 0x1b536044a90>"
      ]
     },
     "metadata": {},
     "output_type": "display_data"
    }
   ],
   "source": [
    "\n",
    "fig, ax = plt.subplots()\n",
    "z = [val[\"accuracy\"]for val in time_data.values()]\n",
    "y = [val[\"time\"]for val in time_data.values()]\n",
    "ax.scatter(z,y, )\n",
    "for i, txt in enumerate(time_data.keys()):\n",
    "    ax.annotate(txt, (z[i],y[i]))\n",
    "ax.set_xlabel(\"accuracy bought by different algotithms\")\n",
    "ax.set_ylabel(\"time taken by different algorithms\")\n",
    "plt.savefig(\"accuracy vs time taken\")"
   ]
  },
  {
   "cell_type": "markdown",
   "metadata": {
    "collapsed": true
   },
   "source": [
    "consider n dimensions(variance) , parallel processing, explanation to code function ,write about library and what you find in notebook"
   ]
  },
  {
   "cell_type": "markdown",
   "metadata": {},
   "source": [
    "### K Means using multi threading\n",
    "- When we have huge amount of data like in order of 200 or 300 Gb then i will be difficult for a single computer to handle such a large data .\n",
    "- To solve such problems this research paper proposes to divide data and run diffenent parallel processes in different machines and finally collect all the data and find best nearest neighbour.\n",
    "- I have used multithreading in my code to demonstrate that virtually .Here i did not considered time complexity of algorithm because i am not actuually performing multiple tasks at multiple place but in same computer and one more difficulty is i have locked some of the process in multiprocessing so that different threads does not interact ."
   ]
  },
  {
   "cell_type": "code",
   "execution_count": 11,
   "metadata": {
    "collapsed": true
   },
   "outputs": [
    {
     "name": "stdout",
     "output_type": "stream",
     "text": [
      "51\n",
      "51\n",
      "51\n",
      "51\n",
      "51\n"
     ]
    }
   ],
   "source": [
    "collect_accuracy = []\n",
    "for i in [1,5,10,20,100] :\n",
    "    mt_accuracy = kmeans_tree_multithreading(points,y,search_point,search_y,k = 3,no_of_comparisions = 100,clustring_iteration = 30,threads = i)\n",
    "    collect_accuracy.append((mt_accuracy,i))"
   ]
  },
  {
   "cell_type": "markdown",
   "metadata": {},
   "source": [
    "- Below graph is behaviour of multi threading with increasing number of threads\n",
    "- Data i used while plotting is of constant size. I did not incremented data\n",
    "- We can observe that as the number of processes increase then accuracy starts decreasing linearly.\n",
    "- This behaviour is because as i am keeping the size of data set constant ,when i increase number of threads in multi threading, data is splitted equally among different processes.\n",
    "- As a result each tree do not have sufficient data to atleast predict approximate correct neighbour. So accuracy decreases with increasing parallel threads."
   ]
  },
  {
   "cell_type": "code",
   "execution_count": 14,
   "metadata": {},
   "outputs": [
    {
     "data": {
      "text/plain": [
       "Text(0,0.5,'Accuracy')"
      ]
     },
     "execution_count": 14,
     "metadata": {},
     "output_type": "execute_result"
    },
    {
     "data": {
      "image/png": "[encoded data removed]",
      "text/plain": [
       "<matplotlib.figure.Figure at 0x15fe3fc3a90>"
      ]
     },
     "metadata": {},
     "output_type": "display_data"
    }
   ],
   "source": [
    "plt.plot([val[1] for val in collect_accuracy],[val[0] for val in collect_accuracy])\n",
    "plt.xlabel(\"numbre of multi threading process\")\n",
    "plt.ylabel(\"Accuracy\")"
   ]
  }
 ],
 "metadata": {
  "kernelspec": {
   "display_name": "Python 3",
   "language": "python",
   "name": "python3"
  },
  "language_info": {
   "codemirror_mode": {
    "name": "ipython",
    "version": 3
   },
   "file_extension": ".py",
   "mimetype": "text/x-python",
   "name": "python",
   "nbconvert_exporter": "python",
   "pygments_lexer": "ipython3",
   "version": "3.6.5"
  }
 },
 "nbformat": 4,
 "nbformat_minor": 2
}
